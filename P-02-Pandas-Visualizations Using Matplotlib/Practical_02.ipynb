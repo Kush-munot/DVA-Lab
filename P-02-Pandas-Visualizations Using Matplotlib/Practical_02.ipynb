{
  "nbformat": 4,
  "nbformat_minor": 0,
  "metadata": {
    "colab": {
      "provenance": [],
      "authorship_tag": "ABX9TyPtd8a+IS15O0TrDBG7ikvL",
      "include_colab_link": true
    },
    "kernelspec": {
      "name": "python3",
      "display_name": "Python 3"
    },
    "language_info": {
      "name": "python"
    },
    "accelerator": "TPU"
  },
  "cells": [
    {
      "cell_type": "markdown",
      "metadata": {
        "id": "view-in-github",
        "colab_type": "text"
      },
      "source": [
        "<a href=\"https://colab.research.google.com/github/Kush-munot/DVA-Lab/blob/main/Practical_02.ipynb\" target=\"_parent\"><img src=\"https://colab.research.google.com/assets/colab-badge.svg\" alt=\"Open In Colab\"/></a>"
      ]
    },
    {
      "cell_type": "markdown",
      "source": [
        "## Part A\n",
        "Use fundamentals of Numpy and Pandas\n",
        "1. Read the three csv files which contains the score of same students in term1 for each Subject\n",
        "2. Remove the name and ethnicity column (to ensure confidentiality)\n",
        "3. Fill missing score data with zero\n",
        "4. Merge two files\n",
        "5. Change Sex(M/F) Column to 1/2 for further analysis\n",
        "6. Store the data in new file –ScoreFinal.csv\n",
        "7. Convert ethnicity to numerical value\n",
        "8. Fill the missing score for a student to the average of the class"
      ],
      "metadata": {
        "id": "OOSZFxD6bwSM"
      }
    },
    {
      "cell_type": "code",
      "execution_count": 2,
      "metadata": {
        "colab": {
          "base_uri": "https://localhost:8080/"
        },
        "id": "mP66KHCQbkcV",
        "outputId": "3d7b58b3-948c-4cd9-c1fb-9de780ebd8cf"
      },
      "outputs": [
        {
          "output_type": "stream",
          "name": "stdout",
          "text": [
            "Requirement already satisfied: numpy in /usr/local/lib/python3.10/dist-packages (1.25.2)\n",
            "Requirement already satisfied: pandas in /usr/local/lib/python3.10/dist-packages (1.5.3)\n",
            "Requirement already satisfied: python-dateutil>=2.8.1 in /usr/local/lib/python3.10/dist-packages (from pandas) (2.8.2)\n",
            "Requirement already satisfied: pytz>=2020.1 in /usr/local/lib/python3.10/dist-packages (from pandas) (2022.7.1)\n",
            "Requirement already satisfied: numpy>=1.21.0 in /usr/local/lib/python3.10/dist-packages (from pandas) (1.25.2)\n",
            "Requirement already satisfied: six>=1.5 in /usr/local/lib/python3.10/dist-packages (from python-dateutil>=2.8.1->pandas) (1.16.0)\n"
          ]
        }
      ],
      "source": [
        "!pip install numpy\n",
        "!pip install pandas\n"
      ]
    },
    {
      "cell_type": "code",
      "source": [
        "import pandas as pd\n",
        "\n",
        "df_subject1 = pd.read_csv('/content/DSScoreTerm1.csv')\n",
        "df_subject2 = pd.read_csv('/content/MathScoreTerm1.csv')\n",
        "df_subject3 = pd.read_csv('/content/PhysicsScoreTerm1.csv')\n"
      ],
      "metadata": {
        "id": "NRtAB-4xctL8"
      },
      "execution_count": 3,
      "outputs": []
    },
    {
      "cell_type": "code",
      "source": [
        "df_merged = pd.merge(df_subject1, df_subject2, on='ID')\n",
        "df_merged = pd.merge(df_merged, df_subject3, on='ID')"
      ],
      "metadata": {
        "id": "US47XKvWkALB"
      },
      "execution_count": 4,
      "outputs": []
    },
    {
      "cell_type": "code",
      "source": [
        "df_subject1.drop(columns=['Name', 'Ethinicity'], inplace=True)\n",
        "df_subject2.drop(columns=['Name', 'Ethinicity'], inplace=True)\n",
        "df_subject3.drop(columns=['Name', 'Ethinicity'], inplace=True)\n"
      ],
      "metadata": {
        "id": "O7OGLZf2c7Or"
      },
      "execution_count": 5,
      "outputs": []
    },
    {
      "cell_type": "code",
      "source": [
        "df_subject1.fillna(0, inplace=True)\n",
        "df_subject2.fillna(0, inplace=True)\n",
        "df_subject3.fillna(0, inplace=True)\n"
      ],
      "metadata": {
        "id": "SI2zNAuEdIS1"
      },
      "execution_count": 6,
      "outputs": []
    },
    {
      "cell_type": "code",
      "source": [
        "df_merged['Sex'] = df_merged['Sex'].replace({'M': 1, 'F': 2})\n",
        "df_merged['Sex_x'] = df_merged['Sex_x'].replace({'M': 1, 'F': 2})\n",
        "df_merged['Sex_y'] = df_merged['Sex_y'].replace({'M': 1, 'F': 2})\n"
      ],
      "metadata": {
        "id": "9o4XoUpOdfi_"
      },
      "execution_count": 7,
      "outputs": []
    },
    {
      "cell_type": "code",
      "source": [
        "df_merged.to_csv('ScoreFinal.csv', index=False)\n",
        "print(df_merged)\n"
      ],
      "metadata": {
        "colab": {
          "base_uri": "https://localhost:8080/"
        },
        "id": "-7pcPF7recIA",
        "outputId": "eb2c9f9f-0851-4e35-98b5-56d12a149079"
      },
      "execution_count": 8,
      "outputs": [
        {
          "output_type": "stream",
          "name": "stdout",
          "text": [
            "                        Name_x  Score_x  Age_x       Ethinicity_x  \\\n",
            "0               AI-KYUNG CHUNG     82.0     18     White American   \n",
            "1                  ALAN HARVEY     79.0     19  European American   \n",
            "2                 ALAN REYNAUD     39.0     19  European American   \n",
            "3               ALBERT CENDANA     76.0     18     White American   \n",
            "4               ALBERT HOLT JR     76.0     18     White American   \n",
            "..                         ...      ...    ...                ...   \n",
            "594                    WING NG     39.0     19     White American   \n",
            "595                YIFANG QIAN     69.0     18     White American   \n",
            "596           ZACHARY PUMPHREY     47.0     20     White American   \n",
            "597  ZEBA IMAN NAZEERI-SIMMONS     69.0     20           Hispanic   \n",
            "598            ZHI JIAR ZHUANG      NaN     19           Hispanic   \n",
            "\n",
            "         Subject_x  Sex_x   ID                     Name_y  Score_y  Age_y  \\\n",
            "0    Data Structue      1    1             AI-KYUNG CHUNG     88.0     18   \n",
            "1    Data Structue      1    2                ALAN HARVEY     85.0     19   \n",
            "2    Data Structue      1    3               ALAN REYNAUD     45.0     19   \n",
            "3    Data Structue      1    4             ALBERT CENDANA     82.0     18   \n",
            "4    Data Structue      2    5             ALBERT HOLT JR     82.0     18   \n",
            "..             ...    ...  ...                        ...      ...    ...   \n",
            "594  Data Structue      2  595                    WING NG     45.0     19   \n",
            "595  Data Structue      1  596                YIFANG QIAN     75.0     18   \n",
            "596  Data Structue      1  597           ZACHARY PUMPHREY     53.0     20   \n",
            "597  Data Structue      1  598  ZEBA IMAN NAZEERI-SIMMONS     75.0     20   \n",
            "598  Data Structue      1  599            ZHI JIAR ZHUANG     88.0     19   \n",
            "\n",
            "          Ethinicity_y Subject_y  Sex_y                       Name  Score  \\\n",
            "0       White American     Maths      1             AI-KYUNG CHUNG   84.0   \n",
            "1    European American     Maths      1                ALAN HARVEY   81.0   \n",
            "2    European American     Maths      1               ALAN REYNAUD   41.0   \n",
            "3       White American     Maths      1             ALBERT CENDANA   78.0   \n",
            "4       White American     Maths      2             ALBERT HOLT JR   78.0   \n",
            "..                 ...       ...    ...                        ...    ...   \n",
            "594     White American     Maths      2                    WING NG   41.0   \n",
            "595     White American     Maths      1                YIFANG QIAN   71.0   \n",
            "596     White American     Maths      1           ZACHARY PUMPHREY   49.0   \n",
            "597           Hispanic     Maths      1  ZEBA IMAN NAZEERI-SIMMONS   71.0   \n",
            "598           Hispanic     Maths      1            ZHI JIAR ZHUANG   69.0   \n",
            "\n",
            "     Age         Ethinicity  Subject  Sex  \n",
            "0     18     White American  Physics    1  \n",
            "1     19  European American  Physics    1  \n",
            "2     19  European American  Physics    1  \n",
            "3     18     White American  Physics    1  \n",
            "4     18     White American  Physics    2  \n",
            "..   ...                ...      ...  ...  \n",
            "594   19     White American  Physics    2  \n",
            "595   18     White American  Physics    1  \n",
            "596   20     White American  Physics    1  \n",
            "597   20           Hispanic  Physics    1  \n",
            "598   19           Hispanic  Physics    1  \n",
            "\n",
            "[599 rows x 19 columns]\n"
          ]
        }
      ]
    },
    {
      "cell_type": "code",
      "source": [
        "ethnicity_mapping = {'White American': 1, 'European American': 2, 'African American': 3, 'Hispanic': 4, 'Other': 5}\n",
        "df_merged['Ethinicity'] = df_merged['Ethinicity'].map(ethnicity_mapping)\n"
      ],
      "metadata": {
        "id": "IbYNqXNBed-x"
      },
      "execution_count": 9,
      "outputs": []
    },
    {
      "cell_type": "code",
      "source": [
        "for subject in ['Score_x', 'Score_y', 'Score']:\n",
        "    df_merged[subject].fillna(df_merged[subject].mean(), inplace=True)\n"
      ],
      "metadata": {
        "id": "iOrAzQMGfJOy"
      },
      "execution_count": 11,
      "outputs": []
    },
    {
      "cell_type": "code",
      "source": [],
      "metadata": {
        "id": "NBei6_tIkZeT"
      },
      "execution_count": null,
      "outputs": []
    }
  ]
}